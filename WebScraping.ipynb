{
 "cells": [
  {
   "cell_type": "code",
   "execution_count": 6,
   "metadata": {},
   "outputs": [],
   "source": [
    "import pandas as pd\n",
    "import matplotlib.pyplot as plt \n",
    "\n",
    "from bs4 import BeautifulSoup\n",
    "import requests\n",
    "import time\n",
    "import re\n",
    "\n",
    "import nltk\n",
    "from nltk.tokenize import word_tokenize\n",
    "from nltk.corpus import stopwords\n",
    "from nltk.stem import SnowballStemmer"
   ]
  },
  {
   "cell_type": "code",
   "execution_count": null,
   "metadata": {},
   "outputs": [],
   "source": []
  },
  {
   "cell_type": "code",
   "execution_count": 7,
   "metadata": {},
   "outputs": [],
   "source": [
    "df_movies = pd.read_csv('movies.csv') "
   ]
  },
  {
   "cell_type": "code",
   "execution_count": 8,
   "metadata": {},
   "outputs": [],
   "source": [
    "df_ratings = pd.read_csv('ratings.csv')"
   ]
  },
  {
   "cell_type": "code",
   "execution_count": 9,
   "metadata": {},
   "outputs": [],
   "source": [
    "df_links = pd.read_csv('links.csv', dtype = object)\n",
    "df_links.fillna(value=0, inplace=True)"
   ]
  },
  {
   "cell_type": "code",
   "execution_count": 10,
   "metadata": {},
   "outputs": [],
   "source": [
    "df_tags = pd.read_csv('tags.csv')"
   ]
  },
  {
   "cell_type": "code",
   "execution_count": null,
   "metadata": {},
   "outputs": [],
   "source": []
  },
  {
   "cell_type": "code",
   "execution_count": null,
   "metadata": {},
   "outputs": [],
   "source": [
    "df_movies"
   ]
  },
  {
   "cell_type": "code",
   "execution_count": null,
   "metadata": {},
   "outputs": [],
   "source": [
    "df_ratings"
   ]
  },
  {
   "cell_type": "code",
   "execution_count": null,
   "metadata": {},
   "outputs": [],
   "source": [
    "df_links"
   ]
  },
  {
   "cell_type": "code",
   "execution_count": null,
   "metadata": {},
   "outputs": [],
   "source": [
    "df_tags"
   ]
  },
  {
   "cell_type": "code",
   "execution_count": null,
   "metadata": {},
   "outputs": [],
   "source": []
  },
  {
   "cell_type": "code",
   "execution_count": 11,
   "metadata": {},
   "outputs": [],
   "source": [
    "header = {\"accept-language\": \"es-ES\"}"
   ]
  },
  {
   "cell_type": "code",
   "execution_count": null,
   "metadata": {},
   "outputs": [],
   "source": [
    "def sacar_sinopsis(df_links, header):\n",
    "    results = []\n",
    "    for i, tmdbId in enumerate(df_links[\"tmdbId\"]):\n",
    "        link = \"https://www.themoviedb.org/movie/\" + str(tmdbId)\n",
    "        r = requests.get(link, headers = header)\n",
    "        bs = BeautifulSoup(r.content, \"html.parser\")\n",
    "        try:\n",
    "            sinopsis = bs.p.get_text()\n",
    "            movie_id = df_links.at[i,\"movieId\"]\n",
    "            results.append([movie_id,tmdbId,sinopsis])\n",
    "        except:\n",
    "            results.append([tmdbId,\"No se encontro sinopsis\"])\n",
    "            continue\n",
    "        time.sleep(1)\n",
    "        print(f\"{i+1}/{len(df_links)} completed\")\n",
    "\n",
    "    df_sinopsis = pd.DataFrame(results,columns=['movieId','tmdbId','sinopsis'])\n",
    "    df_sinopsis.to_csv('sinopsis.csv', index=False)\n",
    "    return df_sinopsis\n",
    "df_sinopsis = sacar_sinopsis(df_links, header)"
   ]
  },
  {
   "cell_type": "code",
   "execution_count": null,
   "metadata": {},
   "outputs": [],
   "source": []
  },
  {
   "cell_type": "code",
   "execution_count": 12,
   "metadata": {},
   "outputs": [],
   "source": [
    "df_sinopsis = pd.read_csv('sinopsis.csv')"
   ]
  },
  {
   "cell_type": "code",
   "execution_count": 13,
   "metadata": {},
   "outputs": [],
   "source": [
    "df_usuario = pd.read_csv('Usuario_0.csv')"
   ]
  },
  {
   "cell_type": "code",
   "execution_count": null,
   "metadata": {},
   "outputs": [],
   "source": []
  },
  {
   "cell_type": "code",
   "execution_count": null,
   "metadata": {},
   "outputs": [],
   "source": []
  },
  {
   "cell_type": "code",
   "execution_count": null,
   "metadata": {},
   "outputs": [],
   "source": []
  },
  {
   "cell_type": "code",
   "execution_count": null,
   "metadata": {},
   "outputs": [],
   "source": []
  },
  {
   "cell_type": "code",
   "execution_count": 14,
   "metadata": {},
   "outputs": [],
   "source": [
    "def juntarMoviesSinopsis(df_movies, df_sinopsis, movieId, movies_sinopsis):\n",
    "    # Unir los dataframes en función de la columna 'movieId'\n",
    "    df_movies_sinopsis = pd.merge(df_movies, df_sinopsis, on='movieId')\n",
    "\n",
    "    # Eliminar columna tmdbId\n",
    "    df_movies_sinopsis = df_movies_sinopsis.drop('tmdbId', axis=1)\n",
    "    \n",
    "    # Guardar el resultado en un nuevo archivo CSV\n",
    "    df_movies_sinopsis.to_csv('movies_sinopsis.csv', index=False)    \n",
    "    return df_movies_sinopsis"
   ]
  },
  {
   "cell_type": "code",
   "execution_count": 15,
   "metadata": {},
   "outputs": [
    {
     "name": "stdout",
     "output_type": "stream",
     "text": [
      "      movieId                                      title  \\\n",
      "0           1                           Toy Story (1995)   \n",
      "1           2                             Jumanji (1995)   \n",
      "2           3                    Grumpier Old Men (1995)   \n",
      "3           4                   Waiting to Exhale (1995)   \n",
      "4           5         Father of the Bride Part II (1995)   \n",
      "...       ...                                        ...   \n",
      "9737   193581  Black Butler: Book of the Atlantic (2017)   \n",
      "9738   193583               No Game No Life: Zero (2017)   \n",
      "9739   193585                               Flint (2017)   \n",
      "9740   193587        Bungo Stray Dogs: Dead Apple (2018)   \n",
      "9741   193609        Andrew Dice Clay: Dice Rules (1991)   \n",
      "\n",
      "                                           genres  \\\n",
      "0     Adventure|Animation|Children|Comedy|Fantasy   \n",
      "1                      Adventure|Children|Fantasy   \n",
      "2                                  Comedy|Romance   \n",
      "3                            Comedy|Drama|Romance   \n",
      "4                                          Comedy   \n",
      "...                                           ...   \n",
      "9737              Action|Animation|Comedy|Fantasy   \n",
      "9738                     Animation|Comedy|Fantasy   \n",
      "9739                                        Drama   \n",
      "9740                             Action|Animation   \n",
      "9741                                       Comedy   \n",
      "\n",
      "                                               sinopsis  \n",
      "0     Los juguetes de Andy, un niño de seis años, te...  \n",
      "1     Alan Parris queda atrapado en un juego de mesa...  \n",
      "2     El verano ha llegado a Minnesotta y la relació...  \n",
      "3     Basada en el best seller de Terry McMillan, la...  \n",
      "4     Tras la boda de su querida hija Anne, George B...  \n",
      "...                                                 ...  \n",
      "9737  Susurros se convierten en titulares gritando e...  \n",
      "9738  Es una precuela situada 6000 años antes de la ...  \n",
      "9739  Una mujer se ocupa del escándalo del agua tóxi...  \n",
      "9740  La historia está protagonizada por una liga de...  \n",
      "9741  Outrageous, misogynistic and vulgar-to-the-max...  \n",
      "\n",
      "[9742 rows x 4 columns]\n"
     ]
    }
   ],
   "source": [
    "#Comprobar que crea y elimina y guarda en un fichero csv\n",
    "df_movies_sinopsis = juntarMoviesSinopsis(df_movies, df_sinopsis, 'movieId', 'movies_sinopsis.csv')\n",
    "print(df_movies_sinopsis)"
   ]
  },
  {
   "cell_type": "code",
   "execution_count": 16,
   "metadata": {
    "scrolled": true
   },
   "outputs": [
    {
     "data": {
      "text/html": [
       "<div>\n",
       "<style scoped>\n",
       "    .dataframe tbody tr th:only-of-type {\n",
       "        vertical-align: middle;\n",
       "    }\n",
       "\n",
       "    .dataframe tbody tr th {\n",
       "        vertical-align: top;\n",
       "    }\n",
       "\n",
       "    .dataframe thead th {\n",
       "        text-align: right;\n",
       "    }\n",
       "</style>\n",
       "<table border=\"1\" class=\"dataframe\">\n",
       "  <thead>\n",
       "    <tr style=\"text-align: right;\">\n",
       "      <th></th>\n",
       "      <th>movieId</th>\n",
       "      <th>title</th>\n",
       "      <th>genres</th>\n",
       "      <th>sinopsis</th>\n",
       "    </tr>\n",
       "  </thead>\n",
       "  <tbody>\n",
       "    <tr>\n",
       "      <th>0</th>\n",
       "      <td>1</td>\n",
       "      <td>Toy Story (1995)</td>\n",
       "      <td>Adventure|Animation|Children|Comedy|Fantasy</td>\n",
       "      <td>Los juguetes de Andy, un niño de seis años, te...</td>\n",
       "    </tr>\n",
       "    <tr>\n",
       "      <th>1</th>\n",
       "      <td>2</td>\n",
       "      <td>Jumanji (1995)</td>\n",
       "      <td>Adventure|Children|Fantasy</td>\n",
       "      <td>Alan Parris queda atrapado en un juego de mesa...</td>\n",
       "    </tr>\n",
       "    <tr>\n",
       "      <th>2</th>\n",
       "      <td>3</td>\n",
       "      <td>Grumpier Old Men (1995)</td>\n",
       "      <td>Comedy|Romance</td>\n",
       "      <td>El verano ha llegado a Minnesotta y la relació...</td>\n",
       "    </tr>\n",
       "    <tr>\n",
       "      <th>3</th>\n",
       "      <td>4</td>\n",
       "      <td>Waiting to Exhale (1995)</td>\n",
       "      <td>Comedy|Drama|Romance</td>\n",
       "      <td>Basada en el best seller de Terry McMillan, la...</td>\n",
       "    </tr>\n",
       "    <tr>\n",
       "      <th>4</th>\n",
       "      <td>5</td>\n",
       "      <td>Father of the Bride Part II (1995)</td>\n",
       "      <td>Comedy</td>\n",
       "      <td>Tras la boda de su querida hija Anne, George B...</td>\n",
       "    </tr>\n",
       "    <tr>\n",
       "      <th>...</th>\n",
       "      <td>...</td>\n",
       "      <td>...</td>\n",
       "      <td>...</td>\n",
       "      <td>...</td>\n",
       "    </tr>\n",
       "    <tr>\n",
       "      <th>9737</th>\n",
       "      <td>193581</td>\n",
       "      <td>Black Butler: Book of the Atlantic (2017)</td>\n",
       "      <td>Action|Animation|Comedy|Fantasy</td>\n",
       "      <td>Susurros se convierten en titulares gritando e...</td>\n",
       "    </tr>\n",
       "    <tr>\n",
       "      <th>9738</th>\n",
       "      <td>193583</td>\n",
       "      <td>No Game No Life: Zero (2017)</td>\n",
       "      <td>Animation|Comedy|Fantasy</td>\n",
       "      <td>Es una precuela situada 6000 años antes de la ...</td>\n",
       "    </tr>\n",
       "    <tr>\n",
       "      <th>9739</th>\n",
       "      <td>193585</td>\n",
       "      <td>Flint (2017)</td>\n",
       "      <td>Drama</td>\n",
       "      <td>Una mujer se ocupa del escándalo del agua tóxi...</td>\n",
       "    </tr>\n",
       "    <tr>\n",
       "      <th>9740</th>\n",
       "      <td>193587</td>\n",
       "      <td>Bungo Stray Dogs: Dead Apple (2018)</td>\n",
       "      <td>Action|Animation</td>\n",
       "      <td>La historia está protagonizada por una liga de...</td>\n",
       "    </tr>\n",
       "    <tr>\n",
       "      <th>9741</th>\n",
       "      <td>193609</td>\n",
       "      <td>Andrew Dice Clay: Dice Rules (1991)</td>\n",
       "      <td>Comedy</td>\n",
       "      <td>Outrageous, misogynistic and vulgar-to-the-max...</td>\n",
       "    </tr>\n",
       "  </tbody>\n",
       "</table>\n",
       "<p>9742 rows × 4 columns</p>\n",
       "</div>"
      ],
      "text/plain": [
       "      movieId                                      title  \\\n",
       "0           1                           Toy Story (1995)   \n",
       "1           2                             Jumanji (1995)   \n",
       "2           3                    Grumpier Old Men (1995)   \n",
       "3           4                   Waiting to Exhale (1995)   \n",
       "4           5         Father of the Bride Part II (1995)   \n",
       "...       ...                                        ...   \n",
       "9737   193581  Black Butler: Book of the Atlantic (2017)   \n",
       "9738   193583               No Game No Life: Zero (2017)   \n",
       "9739   193585                               Flint (2017)   \n",
       "9740   193587        Bungo Stray Dogs: Dead Apple (2018)   \n",
       "9741   193609        Andrew Dice Clay: Dice Rules (1991)   \n",
       "\n",
       "                                           genres  \\\n",
       "0     Adventure|Animation|Children|Comedy|Fantasy   \n",
       "1                      Adventure|Children|Fantasy   \n",
       "2                                  Comedy|Romance   \n",
       "3                            Comedy|Drama|Romance   \n",
       "4                                          Comedy   \n",
       "...                                           ...   \n",
       "9737              Action|Animation|Comedy|Fantasy   \n",
       "9738                     Animation|Comedy|Fantasy   \n",
       "9739                                        Drama   \n",
       "9740                             Action|Animation   \n",
       "9741                                       Comedy   \n",
       "\n",
       "                                               sinopsis  \n",
       "0     Los juguetes de Andy, un niño de seis años, te...  \n",
       "1     Alan Parris queda atrapado en un juego de mesa...  \n",
       "2     El verano ha llegado a Minnesotta y la relació...  \n",
       "3     Basada en el best seller de Terry McMillan, la...  \n",
       "4     Tras la boda de su querida hija Anne, George B...  \n",
       "...                                                 ...  \n",
       "9737  Susurros se convierten en titulares gritando e...  \n",
       "9738  Es una precuela situada 6000 años antes de la ...  \n",
       "9739  Una mujer se ocupa del escándalo del agua tóxi...  \n",
       "9740  La historia está protagonizada por una liga de...  \n",
       "9741  Outrageous, misogynistic and vulgar-to-the-max...  \n",
       "\n",
       "[9742 rows x 4 columns]"
      ]
     },
     "execution_count": 16,
     "metadata": {},
     "output_type": "execute_result"
    }
   ],
   "source": [
    "df_movies_sinopsis"
   ]
  },
  {
   "cell_type": "code",
   "execution_count": null,
   "metadata": {},
   "outputs": [],
   "source": []
  },
  {
   "cell_type": "code",
   "execution_count": 17,
   "metadata": {},
   "outputs": [
    {
     "name": "stdout",
     "output_type": "stream",
     "text": [
      "Ben es un alcohólico cuya vida se está yendo al traste. Decide irse a Las Vegas, la ciudad donde los bares nunca cierran, para beber hasta morir. Allí conoce a Sera, una prostituta. Se aceptan, se enamoran, se separan y se reencuentran. Una maravillosa historia sobre dos personas que aprenden a aceptarse el uno al otro, sobre cómo en medio de la oscuridad puede surgir una pequeña llama de esperanza en sus vidas.\n"
     ]
    }
   ],
   "source": [
    "def get_sinopsis1(title):\n",
    "    # Leer el archivo CSV\n",
    "    df_movies_sinopsis = pd.read_csv(\"movies_sinopsis.csv\")\n",
    "\n",
    "    # Buscar la sinopsis en el archivo CSV\n",
    "    for i, row in df_movies_sinopsis.iterrows():\n",
    "        if row[\"title\"] == title:\n",
    "            return row[\"sinopsis\"]\n",
    "    return \"Sinopsis no encontrada\"\n",
    "\n",
    "# Ejemplo de uso\n",
    "title = \"Leaving Las Vegas (1995)\"\n",
    "sinopsisT = get_sinopsis1(title)\n",
    "print(sinopsisT)"
   ]
  },
  {
   "cell_type": "code",
   "execution_count": 18,
   "metadata": {
    "scrolled": true
   },
   "outputs": [
    {
     "name": "stdout",
     "output_type": "stream",
     "text": [
      "movieId                                                     1\n",
      "title                                        Toy Story (1995)\n",
      "genres            Adventure|Animation|Children|Comedy|Fantasy\n",
      "sinopsis    Los juguetes de Andy, un niño de seis años, te...\n",
      "Name: 0, dtype: object\n"
     ]
    }
   ],
   "source": [
    "def get_movie_info(buscar):\n",
    "    # Leer el archivo CSV\n",
    "    df = pd.read_csv(\"movies_sinopsis.csv\")\n",
    "    search_by = {\"id\": \"movieId\", \"titulo\": \"title\"}\n",
    "    \n",
    "    # Buscar la pelicula en el archivo CSV\n",
    "    for i, row in df.iterrows():\n",
    "        if row[search_by[buscar[0]]] == buscar[1]:\n",
    "            return row[[\"movieId\", \"title\", \"genres\",\"sinopsis\"]]\n",
    "    return \"Pelicula no encontrada\"\n",
    "\n",
    "# Ejemplo de uso mediante id y titulo\n",
    "buscar = (\"id\", 1)\n",
    "buscar = (\"titulo\", \"Toy Story (1995)\")\n",
    "movie_info = get_movie_info(buscar)\n",
    "print(movie_info)"
   ]
  },
  {
   "cell_type": "code",
   "execution_count": null,
   "metadata": {},
   "outputs": [],
   "source": []
  },
  {
   "cell_type": "code",
   "execution_count": null,
   "metadata": {},
   "outputs": [],
   "source": []
  },
  {
   "cell_type": "code",
   "execution_count": null,
   "metadata": {},
   "outputs": [],
   "source": [
    "# class procesarTexto():\n",
    "    \n",
    "#     def tokenize(text):\n",
    "        \n",
    "#         return nltk.word_tokenize(text)\n",
    "    \n",
    "#     def clean_text(text):\n",
    "#         # Eliminar números\n",
    "#         text = re.sub(r'\\d+', '', text)\n",
    "#         # Eliminar signos de puntuación\n",
    "#         text = re.sub(r'[^\\w\\s]', '', text)\n",
    "#         # Convertir a minúsculas\n",
    "#         text = text.lower()\n",
    "#         return text\n",
    "\n",
    "#     def remove_stopwords(text):\n",
    "#         # Cargar lista de stopwords en español\n",
    "#         stop_words = set(stopwords.words(\"spanish\"))\n",
    "#         # Tokenizar el texto\n",
    "#         tokens = word_tokenize(text)\n",
    "#         # Eliminar stopwords\n",
    "#         filtered_tokens = [token for token in tokens if token.lower() not in stop_words]\n",
    "#         # Unir los tokens en una cadena de texto\n",
    "#         filtered_text = ' '.join(filtered_tokens)\n",
    "#         return filtered_text\n",
    "    \n",
    "#     def stem_text(text):\n",
    "#         # Tokenizar el texto\n",
    "#         tokens = word_tokenize(text)\n",
    "#         # Crear un objeto stemmer\n",
    "#         stemmer = SnowballStemmer(\"spanish\")\n",
    "#         # Aplicar stemming a cada token\n",
    "#         stemmed_tokens = [stemmer.stem(token) for token in tokens]\n",
    "#         # Unir los tokens en una cadena de texto\n",
    "#         stemmed_text = ' '.join(stemmed_tokens)\n",
    "#         return stemmed_text\n",
    "    \n",
    "#     def word_frequency(text):\n",
    "#         # Tokenizar el texto\n",
    "#         tokens = word_tokenize(text)\n",
    "#         # Contar la frecuencia de cada token\n",
    "#         freq = nltk.FreqDist(tokens)\n",
    "#         # Devolver diccionario con la frecuencia de cada palabra\n",
    "#         return dict(freq)\n",
    "    \n",
    "# def get_sinopsis(title):\n",
    "# # Leer el archivo CSV\n",
    "#     df = pd.read_csv(\"movies_sinopsis.csv\")\n",
    "\n",
    "#     # Buscar la sinopsis en el archivo CSV\n",
    "#     for i, row in df.iterrows():\n",
    "#         if row[\"title\"] == title:\n",
    "#             sinopsis = row[\"sinopsis\"]\n",
    "#             sinopsis = procesarTexto.clean_text(sinopsis)\n",
    "#             sinopsis = procesarTexto.remove_stopwords(sinopsis)\n",
    "#             sinopsis = procesarTexto.stem_text(sinopsis)\n",
    "#             frequency = procesarTexto.word_frequency(sinopsis)\n",
    "#             return sinopsis, frequency\n",
    "#     return \"Sinopsis no encontrada\"\n",
    "\n",
    "# # Ejemplo de uso\n",
    "# title = \"Toy Story (1995)\"\n",
    "# sinopsis, frequency = get_sinopsis(title)\n",
    "# print(sinopsis)\n",
    "# print(frequency) "
   ]
  },
  {
   "cell_type": "code",
   "execution_count": null,
   "metadata": {},
   "outputs": [],
   "source": [
    "# def process_sinopsis(search_param):\n",
    "#     movie_info = get_movie_info(search_param)\n",
    "#     sinopsis = movie_info[\"sinopsis\"]\n",
    "#     sinopsis = clean_text(sinopsis)\n",
    "#     sinopsis = remove_stopwords(sinopsis)\n",
    "#     sinopsis = stem_text(sinopsis)\n",
    "#     frequency = word_frequency(sinopsis)\n",
    "#     return sinopsis, frequency\n",
    "\n",
    "# search_param = (\"id\", 1)\n",
    "# sinopsis, frequency = process_sinopsis(search_param)\n",
    "# print(sinopsis)\n",
    "# print(frequency)"
   ]
  },
  {
   "cell_type": "code",
   "execution_count": null,
   "metadata": {},
   "outputs": [],
   "source": []
  },
  {
   "cell_type": "code",
   "execution_count": null,
   "metadata": {},
   "outputs": [],
   "source": []
  }
 ],
 "metadata": {
  "kernelspec": {
   "display_name": "Python 3",
   "language": "python",
   "name": "python3"
  },
  "language_info": {
   "codemirror_mode": {
    "name": "ipython",
    "version": 3
   },
   "file_extension": ".py",
   "mimetype": "text/x-python",
   "name": "python",
   "nbconvert_exporter": "python",
   "pygments_lexer": "ipython3",
   "version": "3.8.5"
  }
 },
 "nbformat": 4,
 "nbformat_minor": 4
}
